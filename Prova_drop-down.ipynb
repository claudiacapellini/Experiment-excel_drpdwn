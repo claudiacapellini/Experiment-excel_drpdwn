{
 "cells": [
  {
   "cell_type": "code",
   "execution_count": 1,
   "metadata": {},
   "outputs": [],
   "source": [
    "#%pip install openpyxl\n",
    "import pandas as pd \n",
    "from openpyxl import Workbook\n",
    "from openpyxl import load_workbook\n",
    "from openpyxl.worksheet.datavalidation import DataValidation"
   ]
  },
  {
   "cell_type": "code",
   "execution_count": 2,
   "metadata": {},
   "outputs": [],
   "source": [
    "# Define the columns for the worksheet \n",
    "columns = [\n",
    "    \"Job Title\",\n",
    "    \"Company Name\",\n",
    "    \"Job Description\",\n",
    "    \"Notes\",\n",
    "    \"Location\",\n",
    "    \"Date Applied\",\n",
    "    \"Curriculum Sent\",\n",
    "    \"Recruitment Step\",\n",
    "    \"Feedback Received\"\n",
    "]\n",
    "\n",
    "# Create a dataframe with the columns\n",
    "df = pd.DataFrame(columns=columns)"
   ]
  },
  {
   "cell_type": "code",
   "execution_count": 3,
   "metadata": {
    "vscode": {
     "languageId": "ruby"
    }
   },
   "outputs": [],
   "source": [
    "# Function to add a new job application entry to the dataframe\n",
    "def add_job_application(job_title, company_name, job_description, notes, location, date_applied, curriculum_sent, recruitment_step, feedback_received):\n",
    "    global df\n",
    "    new_entry = pd.DataFrame([{\n",
    "        \"Job Title\": job_title,\n",
    "        \"Company Name\": company_name,\n",
    "        \"Job Description\": job_description,\n",
    "        \"Notes\": notes,\n",
    "        \"Location\": location,\n",
    "        \"Date Applied\": date_applied,\n",
    "        \"Curriculum Sent\": curriculum_sent,\n",
    "        \"Recruitment Step\": recruitment_step,\n",
    "        \"Feedback Received\": feedback_received\n",
    "    }])\n",
    "    df = pd.concat([df, new_entry], ignore_index=True) # ingore_index=True is used to avoid the index to be repeated\n",
    "\n",
    "    \n",
    "# Example of adding a job application \n",
    "add_job_application(\"Field Clinical Specialist THV\", \"Edwards Lifescience\", \"Technical and clinical support \",\"Internal reference by Lorenzo Amedeo\", \"Bologna\", \"26/02/2025\",\n",
    "      \"Yes\", \"Waiting for feedback\", \"No\")\n",
    "\n",
    "# Set path to save the Excel file in a folder \n",
    "path = \"C:\\\\Users\\\\CLAUDIA\\\\Desktop\\\\Python\\\\job_applications.xlsx\"\n",
    "\n",
    "# Save the dataframe to an Excel file\n",
    "df.to_excel(path, index=False) # index=False is used to avoid the index to be saved in the Excel file\n",
    "\n",
    "\n",
    "#print(\"Job applications saved to job_applications.xlsx\")\n",
    "\n"
   ]
  },
  {
   "cell_type": "code",
   "execution_count": null,
   "metadata": {
    "vscode": {
     "languageId": "ruby"
    }
   },
   "outputs": [
    {
     "name": "stdout",
     "output_type": "stream",
     "text": [
      "Drop-down lists added to the Excel file\n"
     ]
    }
   ],
   "source": [
    "#I want to add a drop-down list option to the column \"Recruitment Step\" in the Excel file.\n",
    "#I want to add a drop-down list option to the column \"Feedback Received\" in the Excel file.\n",
    "\n",
    "import openpyxl\n",
    "\n",
    "dropdown_options_r = [\"Waiting for feedback\", \"Interview\", \"Rejected\", \"Offer\", \"Hired\"]\n",
    "dropdown_options_f = [\"Yes\", \"No\"]\n",
    "\n",
    "# Load the Excel file\n",
    "wb = openpyxl.load_workbook(path)\n",
    "ws = wb.active #Accessing the active sheet, otherwise the sheet name should be specified\n",
    "\n",
    "# Create the validation object for the \"Recruitment Step\" column\n",
    "validation_r = openpyxl.worksheet.datavalidation.DataValidation(type=\"list\", formula1=f'\"{\",\".join(dropdown_options_r)}\"', showDropDown=True)\n",
    "ws.add_data_validation(validation_r)\n",
    "validation_r.ranges = ['H2:H10'] # Apply the validation to the entire column\n",
    "\n",
    "# Create the validation object for the \"Feedback Received\" column\n",
    "validation_f = openpyxl.worksheet.datavalidation.DataValidation(type=\"list\", formula1=f'\"{\",\".join(dropdown_options_f)}\"', showDropDown=True)\n",
    "ws.add_data_validation(validation_f)\n",
    "validation_f.ranges = ['I2:I10'] # Apply the validation to the entire column\n",
    "\n",
    "# Save the Excel file\n",
    "wb.save(path)\n",
    "\n",
    "print(\"Drop-down lists added to the Excel file\")\n",
    "\n",
    "# Doesn't add the dropdown list to the Excel file. I don't know why.   \n",
    "\n"
   ]
  }
 ],
 "metadata": {
  "kernelspec": {
   "display_name": "Python 3",
   "language": "python",
   "name": "python3"
  },
  "language_info": {
   "codemirror_mode": {
    "name": "ipython",
    "version": 3
   },
   "file_extension": ".py",
   "mimetype": "text/x-python",
   "name": "python",
   "nbconvert_exporter": "python",
   "pygments_lexer": "ipython3",
   "version": "3.10.7"
  }
 },
 "nbformat": 4,
 "nbformat_minor": 2
}
